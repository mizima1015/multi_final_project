{
  "nbformat": 4,
  "nbformat_minor": 0,
  "metadata": {
    "colab": {
      "provenance": [],
      "gpuType": "T4"
    },
    "kernelspec": {
      "name": "python3",
      "display_name": "Python 3"
    },
    "language_info": {
      "name": "python"
    }
  },
  "cells": [
    {
      "cell_type": "code",
      "execution_count": 13,
      "metadata": {
        "id": "KQ1Bzb_vFtXA"
      },
      "outputs": [],
      "source": [
        "import pandas as pd\n"
      ]
    },
    {
      "cell_type": "code",
      "source": [
        "from google.colab import drive\n",
        "drive.mount('/content/drive')"
      ],
      "metadata": {
        "colab": {
          "base_uri": "https://localhost:8080/"
        },
        "id": "caDNCofV31Al",
        "outputId": "5f5258ac-1cf4-43bf-a932-00597ab1f2c9"
      },
      "execution_count": 1,
      "outputs": [
        {
          "output_type": "stream",
          "name": "stdout",
          "text": [
            "Mounted at /content/drive\n"
          ]
        }
      ]
    },
    {
      "cell_type": "markdown",
      "source": [
        "연도별 데이터 합치기"
      ],
      "metadata": {
        "id": "z-zWJ9KB9NHi"
      }
    },
    {
      "cell_type": "code",
      "source": [
        "cj_21 = pd.read_csv('/content/drive/MyDrive/CJ_21 (2).csv')\n",
        "print(cj_21)"
      ],
      "metadata": {
        "colab": {
          "base_uri": "https://localhost:8080/"
        },
        "id": "DQtKIV_vNGJi",
        "outputId": "76883342-d45f-4876-ee91-8c2362db386c"
      },
      "execution_count": 14,
      "outputs": [
        {
          "output_type": "stream",
          "name": "stdout",
          "text": [
            "         DL_YMD SEND_CTPV_NM  SEND_CTPV_CD SEND_CTGG_NM  SEND_CTGG_CD  \\\n",
            "0      20210108        서울특별시          11.0          노원구       11350.0   \n",
            "1      20210108        서울특별시          11.0          노원구       11350.0   \n",
            "2      20210108        서울특별시          11.0          노원구       11350.0   \n",
            "3      20210108        서울특별시          11.0          노원구       11350.0   \n",
            "4      20210108        서울특별시          11.0          노원구       11350.0   \n",
            "...         ...          ...           ...          ...           ...   \n",
            "74420  20210715        서울특별시          11.0          용산구       11170.0   \n",
            "74421  20210715        서울특별시          11.0          용산구       11170.0   \n",
            "74422  20210715        서울특별시          11.0          용산구       11170.0   \n",
            "74423  20210715        서울특별시          11.0          용산구       11170.0   \n",
            "74424  20210715        서울특별시          11.0          용산구       11170.0   \n",
            "\n",
            "      REC_CTPV_NM  REC_CTPV_CD  E_C_01  E_C_02  E_C_03  E_C_04  E_C_05  \\\n",
            "0           부산광역시         26.0    60.0   171.0    22.0    66.0   228.0   \n",
            "1           대구광역시         27.0    42.0   118.0    30.0    52.0   156.0   \n",
            "2           인천광역시         28.0    73.0   221.0    35.0    65.0   230.0   \n",
            "3           광주광역시         29.0    22.0    86.0    15.0    36.0    98.0   \n",
            "4           대전광역시         30.0    37.0    85.0     8.0    31.0   126.0   \n",
            "...           ...          ...     ...     ...     ...     ...     ...   \n",
            "74420       부산광역시         26.0    36.0   403.0    36.0  1577.0   262.0   \n",
            "74421       대구광역시         27.0    24.0   282.0    26.0  1141.0   162.0   \n",
            "74422       인천광역시         28.0    35.0   419.0    55.0  1809.0   208.0   \n",
            "74423       광주광역시         29.0    17.0   189.0    16.0   694.0   119.0   \n",
            "74424           대          NaN     NaN     NaN     NaN     NaN     NaN   \n",
            "\n",
            "       E_C_06  E_C_07  E_C_08  E_C_09  E_C_10  E_C_11  REC_CTGG_NM  \\\n",
            "0        74.0   127.0    45.0   269.0    96.0    98.0          NaN   \n",
            "1        39.0   118.0    36.0   197.0    52.0    53.0          NaN   \n",
            "2        73.0   162.0    49.0   303.0    80.0    89.0          NaN   \n",
            "3        30.0    81.0    23.0   140.0    39.0    46.0          NaN   \n",
            "4        37.0    71.0    36.0   143.0    48.0    50.0          NaN   \n",
            "...       ...     ...     ...     ...     ...     ...          ...   \n",
            "74420    28.0   137.0    19.0   702.0   134.0    58.0          NaN   \n",
            "74421    18.0    91.0    13.0   508.0    97.0    44.0          NaN   \n",
            "74422    31.0   149.0    21.0   653.0   101.0    41.0          NaN   \n",
            "74423    17.0    47.0     9.0   353.0    58.0    24.0          NaN   \n",
            "74424     NaN     NaN     NaN     NaN     NaN     NaN          NaN   \n",
            "\n",
            "       REC_CTGG_CD  \n",
            "0              NaN  \n",
            "1              NaN  \n",
            "2              NaN  \n",
            "3              NaN  \n",
            "4              NaN  \n",
            "...            ...  \n",
            "74420          NaN  \n",
            "74421          NaN  \n",
            "74422          NaN  \n",
            "74423          NaN  \n",
            "74424          NaN  \n",
            "\n",
            "[74425 rows x 20 columns]\n"
          ]
        }
      ]
    },
    {
      "cell_type": "code",
      "source": [
        "new_columns = {'DL_YMD': '배송년월일', 'SEND_CTPV_NM': '발송지_시명','SEND_CTGG_NM': '발송지_구명','SEND_CTGG_CD': '발송지_구코드' ,'SEND_CTPV_CD': '발송지_시코드',  'REC_CTPV_NM':'수신지_시명', 'REC_CTPV_CD': '수신지_시코드', 'REC_CTGG_NM': '수신지_구명', 'REC_CTGG_CD': '수신지_구코드', 'E_C_01': '가구/인테리어', 'E_C_02': '기타', 'E_C_03': '도서/음반','E_C_04': '디지털/가전', 'E_C_05': '생활/건강', 'E_C_06': '스포츠/레저', 'E_C_07': '식품', 'E_C_08': '출산/육아', 'E_C_09': '패션의류', 'E_C_10': '패션잡화', 'E_C_11': '화장품/미용'}\n",
        "cj_21.rename (columns = new_columns, inplace = True)\n",
        "print (cj_21)"
      ],
      "metadata": {
        "id": "KlZ8HSLLQeCr",
        "colab": {
          "base_uri": "https://localhost:8080/"
        },
        "outputId": "caf2298b-8f92-4ff3-e351-953bcc168fd9"
      },
      "execution_count": 15,
      "outputs": [
        {
          "output_type": "stream",
          "name": "stdout",
          "text": [
            "          배송년월일 발송지_시명  발송지_시코드 발송지_구명  발송지_구코드 수신지_시명  수신지_시코드  가구/인테리어  \\\n",
            "0      20210108  서울특별시     11.0    노원구  11350.0  부산광역시     26.0     60.0   \n",
            "1      20210108  서울특별시     11.0    노원구  11350.0  대구광역시     27.0     42.0   \n",
            "2      20210108  서울특별시     11.0    노원구  11350.0  인천광역시     28.0     73.0   \n",
            "3      20210108  서울특별시     11.0    노원구  11350.0  광주광역시     29.0     22.0   \n",
            "4      20210108  서울특별시     11.0    노원구  11350.0  대전광역시     30.0     37.0   \n",
            "...         ...    ...      ...    ...      ...    ...      ...      ...   \n",
            "74420  20210715  서울특별시     11.0    용산구  11170.0  부산광역시     26.0     36.0   \n",
            "74421  20210715  서울특별시     11.0    용산구  11170.0  대구광역시     27.0     24.0   \n",
            "74422  20210715  서울특별시     11.0    용산구  11170.0  인천광역시     28.0     35.0   \n",
            "74423  20210715  서울특별시     11.0    용산구  11170.0  광주광역시     29.0     17.0   \n",
            "74424  20210715  서울특별시     11.0    용산구  11170.0      대      NaN      NaN   \n",
            "\n",
            "          기타  도서/음반  디지털/가전  생활/건강  스포츠/레저     식품  출산/육아   패션의류   패션잡화  \\\n",
            "0      171.0   22.0    66.0  228.0    74.0  127.0   45.0  269.0   96.0   \n",
            "1      118.0   30.0    52.0  156.0    39.0  118.0   36.0  197.0   52.0   \n",
            "2      221.0   35.0    65.0  230.0    73.0  162.0   49.0  303.0   80.0   \n",
            "3       86.0   15.0    36.0   98.0    30.0   81.0   23.0  140.0   39.0   \n",
            "4       85.0    8.0    31.0  126.0    37.0   71.0   36.0  143.0   48.0   \n",
            "...      ...    ...     ...    ...     ...    ...    ...    ...    ...   \n",
            "74420  403.0   36.0  1577.0  262.0    28.0  137.0   19.0  702.0  134.0   \n",
            "74421  282.0   26.0  1141.0  162.0    18.0   91.0   13.0  508.0   97.0   \n",
            "74422  419.0   55.0  1809.0  208.0    31.0  149.0   21.0  653.0  101.0   \n",
            "74423  189.0   16.0   694.0  119.0    17.0   47.0    9.0  353.0   58.0   \n",
            "74424    NaN    NaN     NaN    NaN     NaN    NaN    NaN    NaN    NaN   \n",
            "\n",
            "       화장품/미용  수신지_구명  수신지_구코드  \n",
            "0        98.0     NaN      NaN  \n",
            "1        53.0     NaN      NaN  \n",
            "2        89.0     NaN      NaN  \n",
            "3        46.0     NaN      NaN  \n",
            "4        50.0     NaN      NaN  \n",
            "...       ...     ...      ...  \n",
            "74420    58.0     NaN      NaN  \n",
            "74421    44.0     NaN      NaN  \n",
            "74422    41.0     NaN      NaN  \n",
            "74423    24.0     NaN      NaN  \n",
            "74424     NaN     NaN      NaN  \n",
            "\n",
            "[74425 rows x 20 columns]\n"
          ]
        }
      ]
    },
    {
      "cell_type": "code",
      "source": [
        "cj_21.info()"
      ],
      "metadata": {
        "colab": {
          "base_uri": "https://localhost:8080/"
        },
        "id": "7WS2XeLJKwgv",
        "outputId": "912e6f3a-145e-4127-d1f6-3c5334654a9c"
      },
      "execution_count": 36,
      "outputs": [
        {
          "output_type": "stream",
          "name": "stdout",
          "text": [
            "<class 'pandas.core.frame.DataFrame'>\n",
            "RangeIndex: 74425 entries, 0 to 74424\n",
            "Data columns (total 20 columns):\n",
            " #   Column   Non-Null Count  Dtype  \n",
            "---  ------   --------------  -----  \n",
            " 0   배송년월일    74425 non-null  int64  \n",
            " 1   발송지_시명   74425 non-null  object \n",
            " 2   발송지_시코드  74425 non-null  float64\n",
            " 3   발송지_구명   74425 non-null  object \n",
            " 4   발송지_구코드  74425 non-null  float64\n",
            " 5   수신지_시명   74425 non-null  object \n",
            " 6   수신지_시코드  74424 non-null  float64\n",
            " 7   가구/인테리어  74424 non-null  float64\n",
            " 8   기타       74424 non-null  float64\n",
            " 9   도서/음반    74424 non-null  float64\n",
            " 10  디지털/가전   74424 non-null  float64\n",
            " 11  생활/건강    74424 non-null  float64\n",
            " 12  스포츠/레저   74424 non-null  float64\n",
            " 13  식품       74424 non-null  float64\n",
            " 14  출산/육아    74424 non-null  float64\n",
            " 15  패션의류     74424 non-null  float64\n",
            " 16  패션잡화     74424 non-null  float64\n",
            " 17  화장품/미용   74424 non-null  float64\n",
            " 18  수신지_구명   0 non-null      float64\n",
            " 19  수신지_구코드  0 non-null      float64\n",
            "dtypes: float64(16), int64(1), object(3)\n",
            "memory usage: 11.4+ MB\n"
          ]
        }
      ]
    },
    {
      "cell_type": "code",
      "source": [
        "cj_22 = pd.read_csv('/content/drive/MyDrive/CJ_22.csv')\n",
        "print (cj_22)"
      ],
      "metadata": {
        "id": "Erv-AM5WNJY7",
        "colab": {
          "base_uri": "https://localhost:8080/"
        },
        "outputId": "90b921d4-62c9-4c39-bb25-61ea84067a1b"
      },
      "execution_count": 16,
      "outputs": [
        {
          "output_type": "stream",
          "name": "stdout",
          "text": [
            "          DL_YMD SEND_CTPV_NM  SEND_CTPV_CD SEND_CTGG_NM  SEND_CTGG_CD  \\\n",
            "0       20220104        서울특별시          11.0          동작구       11590.0   \n",
            "1       20220104        서울특별시          11.0          동작구       11590.0   \n",
            "2       20220104        서울특별시          11.0          동작구       11590.0   \n",
            "3       20220104        서울특별시          11.0          동작구       11590.0   \n",
            "4       20220104        서울특별시          11.0          동작구       11590.0   \n",
            "...          ...          ...           ...          ...           ...   \n",
            "489475  20221230        서울특별시          11.0          강남구       11680.0   \n",
            "489476  20221230        서울특별시          11.0          강남구       11680.0   \n",
            "489477  20221230        서울특별시          11.0          강남구       11680.0   \n",
            "489478  20221230        서울특별시          11.0          강남구       11680.0   \n",
            "489479  20221230        서울특별시          11.0          강남구       11680.0   \n",
            "\n",
            "       REC_CTPV_NM  REC_CTPV_CD  E_C_01  E_C_02  E_C_03  E_C_04  E_C_05  \\\n",
            "0            부산광역시         26.0     0.0  1502.0     0.0     0.0     0.0   \n",
            "1            대구광역시         27.0     0.0  1024.0     0.0     0.0     0.0   \n",
            "2            인천광역시         28.0     0.0  1471.0     0.0     0.0     0.0   \n",
            "3            광주광역시         29.0     0.0   500.0     0.0     0.0     7.0   \n",
            "4            대전광역시         30.0     0.0   704.0     0.0     0.0     0.0   \n",
            "...            ...          ...     ...     ...     ...     ...     ...   \n",
            "489475       서울특별시         11.0    12.0    84.0    70.0    27.0    50.0   \n",
            "489476       서울특별시         11.0    19.0   142.0    87.0    30.0    85.0   \n",
            "489477       서울특별시         11.0    20.0   282.0   152.0    60.0   142.0   \n",
            "489478       서울특별시         11.0    12.0   158.0   118.0    36.0   102.0   \n",
            "489479       서울특별시         11.0    11.0    61.0    32.0    33.0    47.0   \n",
            "\n",
            "        E_C_06  E_C_07  E_C_08  E_C_09  E_C_10  E_C_11 REC_CTGG_NM  \\\n",
            "0          0.0    15.0     0.0     0.0     0.0     0.0         NaN   \n",
            "1          0.0     0.0     0.0     0.0     0.0     0.0         NaN   \n",
            "2          0.0     0.0     0.0     0.0     0.0     0.0         NaN   \n",
            "3          0.0    17.0     0.0     0.0     0.0     0.0         NaN   \n",
            "4          0.0     0.0     0.0     0.0     0.0     0.0         NaN   \n",
            "...        ...     ...     ...     ...     ...     ...         ...   \n",
            "489475    14.0   111.0     4.0   229.0    85.0    55.0         관악구   \n",
            "489476    15.0   158.0     9.0   245.0    79.0   139.0         서초구   \n",
            "489477    23.0   289.0    11.0   436.0   163.0   224.0         강남구   \n",
            "489478    23.0   184.0     0.0   321.0   116.0   188.0         송파구   \n",
            "489479     9.0    83.0     5.0   175.0    78.0    36.0         강동구   \n",
            "\n",
            "        REC_CTGG_CD  \n",
            "0               NaN  \n",
            "1               NaN  \n",
            "2               NaN  \n",
            "3               NaN  \n",
            "4               NaN  \n",
            "...             ...  \n",
            "489475      11620.0  \n",
            "489476      11650.0  \n",
            "489477      11680.0  \n",
            "489478      11710.0  \n",
            "489479      11740.0  \n",
            "\n",
            "[489480 rows x 20 columns]\n"
          ]
        },
        {
          "output_type": "stream",
          "name": "stderr",
          "text": [
            "<ipython-input-16-c6e484028749>:1: DtypeWarning: Columns (3,18) have mixed types. Specify dtype option on import or set low_memory=False.\n",
            "  cj_22 = pd.read_csv('/content/drive/MyDrive/CJ_22.csv')\n"
          ]
        }
      ]
    },
    {
      "cell_type": "code",
      "source": [
        "new_columns = {'DL_YMD': '배송년월일', 'SEND_CTPV_NM': '발송지_시명','SEND_CTGG_NM': '발송지_구명','SEND_CTGG_CD': '발송지_구코드' ,'SEND_CTPV_CD': '발송지_시코드',  'REC_CTPV_NM':'수신지_시명', 'REC_CTPV_CD': '수신지_시코드', 'REC_CTGG_NM': '수신지_구명', 'REC_CTGG_CD': '수신지_구코드', 'E_C_01': '가구/인테리어', 'E_C_02': '기타', 'E_C_03': '도서/음반','E_C_04': '디지털/가전', 'E_C_05': '생활/건강', 'E_C_06': '스포츠/레저', 'E_C_07': '식품', 'E_C_08': '출산/육아', 'E_C_09': '패션의류', 'E_C_10': '패션잡화', 'E_C_11': '화장품/미용'}\n",
        "cj_22.rename (columns = new_columns, inplace = True)\n",
        "print (cj_22)"
      ],
      "metadata": {
        "id": "ISDX4IqwU_7M",
        "colab": {
          "base_uri": "https://localhost:8080/"
        },
        "outputId": "1a43c3b0-80fe-4fc8-c378-ac504625ff1b"
      },
      "execution_count": 17,
      "outputs": [
        {
          "output_type": "stream",
          "name": "stdout",
          "text": [
            "           배송년월일 발송지_시명  발송지_시코드 발송지_구명  발송지_구코드 수신지_시명  수신지_시코드  가구/인테리어  \\\n",
            "0       20220104  서울특별시     11.0    동작구  11590.0  부산광역시     26.0      0.0   \n",
            "1       20220104  서울특별시     11.0    동작구  11590.0  대구광역시     27.0      0.0   \n",
            "2       20220104  서울특별시     11.0    동작구  11590.0  인천광역시     28.0      0.0   \n",
            "3       20220104  서울특별시     11.0    동작구  11590.0  광주광역시     29.0      0.0   \n",
            "4       20220104  서울특별시     11.0    동작구  11590.0  대전광역시     30.0      0.0   \n",
            "...          ...    ...      ...    ...      ...    ...      ...      ...   \n",
            "489475  20221230  서울특별시     11.0    강남구  11680.0  서울특별시     11.0     12.0   \n",
            "489476  20221230  서울특별시     11.0    강남구  11680.0  서울특별시     11.0     19.0   \n",
            "489477  20221230  서울특별시     11.0    강남구  11680.0  서울특별시     11.0     20.0   \n",
            "489478  20221230  서울특별시     11.0    강남구  11680.0  서울특별시     11.0     12.0   \n",
            "489479  20221230  서울특별시     11.0    강남구  11680.0  서울특별시     11.0     11.0   \n",
            "\n",
            "            기타  도서/음반  디지털/가전  생활/건강  스포츠/레저     식품  출산/육아   패션의류   패션잡화  \\\n",
            "0       1502.0    0.0     0.0    0.0     0.0   15.0    0.0    0.0    0.0   \n",
            "1       1024.0    0.0     0.0    0.0     0.0    0.0    0.0    0.0    0.0   \n",
            "2       1471.0    0.0     0.0    0.0     0.0    0.0    0.0    0.0    0.0   \n",
            "3        500.0    0.0     0.0    7.0     0.0   17.0    0.0    0.0    0.0   \n",
            "4        704.0    0.0     0.0    0.0     0.0    0.0    0.0    0.0    0.0   \n",
            "...        ...    ...     ...    ...     ...    ...    ...    ...    ...   \n",
            "489475    84.0   70.0    27.0   50.0    14.0  111.0    4.0  229.0   85.0   \n",
            "489476   142.0   87.0    30.0   85.0    15.0  158.0    9.0  245.0   79.0   \n",
            "489477   282.0  152.0    60.0  142.0    23.0  289.0   11.0  436.0  163.0   \n",
            "489478   158.0  118.0    36.0  102.0    23.0  184.0    0.0  321.0  116.0   \n",
            "489479    61.0   32.0    33.0   47.0     9.0   83.0    5.0  175.0   78.0   \n",
            "\n",
            "        화장품/미용 수신지_구명  수신지_구코드  \n",
            "0          0.0    NaN      NaN  \n",
            "1          0.0    NaN      NaN  \n",
            "2          0.0    NaN      NaN  \n",
            "3          0.0    NaN      NaN  \n",
            "4          0.0    NaN      NaN  \n",
            "...        ...    ...      ...  \n",
            "489475    55.0    관악구  11620.0  \n",
            "489476   139.0    서초구  11650.0  \n",
            "489477   224.0    강남구  11680.0  \n",
            "489478   188.0    송파구  11710.0  \n",
            "489479    36.0    강동구  11740.0  \n",
            "\n",
            "[489480 rows x 20 columns]\n"
          ]
        }
      ]
    },
    {
      "cell_type": "code",
      "source": [
        "cj_22.info()"
      ],
      "metadata": {
        "colab": {
          "base_uri": "https://localhost:8080/"
        },
        "id": "I3hm18yOK4-W",
        "outputId": "7e401c1e-f9f1-4628-eca9-17993ed44c51"
      },
      "execution_count": 37,
      "outputs": [
        {
          "output_type": "stream",
          "name": "stdout",
          "text": [
            "<class 'pandas.core.frame.DataFrame'>\n",
            "RangeIndex: 489480 entries, 0 to 489479\n",
            "Data columns (total 20 columns):\n",
            " #   Column   Non-Null Count   Dtype  \n",
            "---  ------   --------------   -----  \n",
            " 0   배송년월일    489480 non-null  int64  \n",
            " 1   발송지_시명   489480 non-null  object \n",
            " 2   발송지_시코드  489480 non-null  float64\n",
            " 3   발송지_구명   346953 non-null  object \n",
            " 4   발송지_구코드  346953 non-null  float64\n",
            " 5   수신지_시명   489480 non-null  object \n",
            " 6   수신지_시코드  489480 non-null  float64\n",
            " 7   가구/인테리어  489480 non-null  float64\n",
            " 8   기타       489480 non-null  float64\n",
            " 9   도서/음반    489480 non-null  float64\n",
            " 10  디지털/가전   489480 non-null  float64\n",
            " 11  생활/건강    489480 non-null  float64\n",
            " 12  스포츠/레저   489480 non-null  float64\n",
            " 13  식품       489480 non-null  float64\n",
            " 14  출산/육아    489480 non-null  float64\n",
            " 15  패션의류     489480 non-null  float64\n",
            " 16  패션잡화     489480 non-null  float64\n",
            " 17  화장품/미용   489480 non-null  float64\n",
            " 18  수신지_구명   352371 non-null  object \n",
            " 19  수신지_구코드  352371 non-null  float64\n",
            "dtypes: float64(15), int64(1), object(4)\n",
            "memory usage: 74.7+ MB\n"
          ]
        }
      ]
    },
    {
      "cell_type": "code",
      "source": [
        "cj_23 = pd.read_csv('/content/drive/MyDrive/CJ_23.csv')\n",
        "print(cj_23)"
      ],
      "metadata": {
        "id": "46JQvxcANJuh",
        "colab": {
          "base_uri": "https://localhost:8080/"
        },
        "outputId": "19b8aa6b-e6ed-49d9-9dc2-6ddd16d6f04a"
      },
      "execution_count": 18,
      "outputs": [
        {
          "output_type": "stream",
          "name": "stdout",
          "text": [
            "          DL_YMD SEND_CTPV_NM  SEND_CTPV_CD SEND_CTGG_NM  SEND_CTGG_CD  \\\n",
            "0       20230109        서울특별시          11.0          광진구       11215.0   \n",
            "1       20230109        서울특별시          11.0          광진구       11215.0   \n",
            "2       20230109        서울특별시          11.0          광진구       11215.0   \n",
            "3       20230109        서울특별시          11.0          광진구       11215.0   \n",
            "4       20230109        서울특별시          11.0          광진구       11215.0   \n",
            "...          ...          ...           ...          ...           ...   \n",
            "323351  20230831        서울특별시          11.0          양천구       11470.0   \n",
            "323352  20230831        서울특별시          11.0          양천구       11470.0   \n",
            "323353  20230831        서울특별시          11.0          양천구       11470.0   \n",
            "323354  20230831        서울특별시          11.0          양천구       11470.0   \n",
            "323355  20230831        서울특별시          11.0          양천구       11470.0   \n",
            "\n",
            "       REC_CTPV_NM  REC_CTPV_CD  E_C_01  E_C_02  E_C_03  E_C_04  E_C_05  \\\n",
            "0            부산광역시         26.0    47.0   290.0    55.0   206.0   441.0   \n",
            "1            대구광역시         27.0    52.0   221.0    39.0   137.0   278.0   \n",
            "2            인천광역시         28.0    64.0   304.0    64.0   213.0   423.0   \n",
            "3            광주광역시         29.0    28.0   143.0    23.0   103.0   216.0   \n",
            "4            대전광역시         30.0    31.0   151.0    25.0   109.0   201.0   \n",
            "...            ...          ...     ...     ...     ...     ...     ...   \n",
            "323351       서울특별시         11.0     0.0    21.0     7.0    18.0    27.0   \n",
            "323352       서울특별시         11.0     0.0    16.0    11.0    29.0    28.0   \n",
            "323353       서울특별시         11.0     3.0    35.0    16.0    17.0    44.0   \n",
            "323354       서울특별시         11.0     5.0    28.0    10.0    20.0    30.0   \n",
            "323355       서울특별시         11.0     4.0    10.0     4.0    12.0    19.0   \n",
            "\n",
            "        E_C_06  E_C_07  E_C_08  E_C_09  E_C_10  E_C_11 REC_CTGG_NM  \\\n",
            "0         82.0   206.0    81.0   635.0   406.0    89.0         NaN   \n",
            "1         67.0   152.0    45.0   434.0   339.0    74.0         NaN   \n",
            "2         93.0   200.0    90.0   639.0   447.0    78.0         NaN   \n",
            "3         40.0    98.0    42.0   336.0   219.0    30.0         NaN   \n",
            "4         53.0    78.0    37.0   305.0   177.0    44.0         NaN   \n",
            "...        ...     ...     ...     ...     ...     ...         ...   \n",
            "323351     3.0    10.0     0.0    13.0    19.0     9.0         관악구   \n",
            "323352     4.0     7.0     0.0    16.0    17.0     5.0         서초구   \n",
            "323353    11.0    10.0    17.0    29.0    37.0    25.0         강남구   \n",
            "323354     4.0    13.0     0.0    24.0    20.0    27.0         송파구   \n",
            "323355     0.0     8.0     0.0    14.0    11.0    13.0         강동구   \n",
            "\n",
            "        REC_CTGG_CD  \n",
            "0               NaN  \n",
            "1               NaN  \n",
            "2               NaN  \n",
            "3               NaN  \n",
            "4               NaN  \n",
            "...             ...  \n",
            "323351      11620.0  \n",
            "323352      11650.0  \n",
            "323353      11680.0  \n",
            "323354      11710.0  \n",
            "323355      11740.0  \n",
            "\n",
            "[323356 rows x 20 columns]\n"
          ]
        },
        {
          "output_type": "stream",
          "name": "stderr",
          "text": [
            "<ipython-input-18-3e1420ab2e3a>:1: DtypeWarning: Columns (3,18) have mixed types. Specify dtype option on import or set low_memory=False.\n",
            "  cj_23 = pd.read_csv('/content/drive/MyDrive/CJ_23.csv')\n"
          ]
        }
      ]
    },
    {
      "cell_type": "code",
      "source": [
        "new_columns = {'DL_YMD': '배송년월일', 'SEND_CTPV_NM': '발송지_시명','SEND_CTGG_NM': '발송지_구명','SEND_CTGG_CD': '발송지_구코드' ,'SEND_CTPV_CD': '발송지_시코드',  'REC_CTPV_NM':'수신지_시명', 'REC_CTPV_CD': '수신지_시코드', 'REC_CTGG_NM': '수신지_구명', 'REC_CTGG_CD': '수신지_구코드', 'E_C_01': '가구/인테리어', 'E_C_02': '기타', 'E_C_03': '도서/음반','E_C_04': '디지털/가전', 'E_C_05': '생활/건강', 'E_C_06': '스포츠/레저', 'E_C_07': '식품', 'E_C_08': '출산/육아', 'E_C_09': '패션의류', 'E_C_10': '패션잡화', 'E_C_11': '화장품/미용'}\n",
        "cj_23.rename (columns = new_columns, inplace = True)\n",
        "print (cj_23)"
      ],
      "metadata": {
        "colab": {
          "base_uri": "https://localhost:8080/"
        },
        "id": "qkk1MRXH7Ldu",
        "outputId": "12c9432a-3e31-47ed-a994-dabc7484e1e7"
      },
      "execution_count": 19,
      "outputs": [
        {
          "output_type": "stream",
          "name": "stdout",
          "text": [
            "           배송년월일 발송지_시명  발송지_시코드 발송지_구명  발송지_구코드 수신지_시명  수신지_시코드  가구/인테리어  \\\n",
            "0       20230109  서울특별시     11.0    광진구  11215.0  부산광역시     26.0     47.0   \n",
            "1       20230109  서울특별시     11.0    광진구  11215.0  대구광역시     27.0     52.0   \n",
            "2       20230109  서울특별시     11.0    광진구  11215.0  인천광역시     28.0     64.0   \n",
            "3       20230109  서울특별시     11.0    광진구  11215.0  광주광역시     29.0     28.0   \n",
            "4       20230109  서울특별시     11.0    광진구  11215.0  대전광역시     30.0     31.0   \n",
            "...          ...    ...      ...    ...      ...    ...      ...      ...   \n",
            "323351  20230831  서울특별시     11.0    양천구  11470.0  서울특별시     11.0      0.0   \n",
            "323352  20230831  서울특별시     11.0    양천구  11470.0  서울특별시     11.0      0.0   \n",
            "323353  20230831  서울특별시     11.0    양천구  11470.0  서울특별시     11.0      3.0   \n",
            "323354  20230831  서울특별시     11.0    양천구  11470.0  서울특별시     11.0      5.0   \n",
            "323355  20230831  서울특별시     11.0    양천구  11470.0  서울특별시     11.0      4.0   \n",
            "\n",
            "           기타  도서/음반  디지털/가전  생활/건강  스포츠/레저     식품  출산/육아   패션의류   패션잡화  \\\n",
            "0       290.0   55.0   206.0  441.0    82.0  206.0   81.0  635.0  406.0   \n",
            "1       221.0   39.0   137.0  278.0    67.0  152.0   45.0  434.0  339.0   \n",
            "2       304.0   64.0   213.0  423.0    93.0  200.0   90.0  639.0  447.0   \n",
            "3       143.0   23.0   103.0  216.0    40.0   98.0   42.0  336.0  219.0   \n",
            "4       151.0   25.0   109.0  201.0    53.0   78.0   37.0  305.0  177.0   \n",
            "...       ...    ...     ...    ...     ...    ...    ...    ...    ...   \n",
            "323351   21.0    7.0    18.0   27.0     3.0   10.0    0.0   13.0   19.0   \n",
            "323352   16.0   11.0    29.0   28.0     4.0    7.0    0.0   16.0   17.0   \n",
            "323353   35.0   16.0    17.0   44.0    11.0   10.0   17.0   29.0   37.0   \n",
            "323354   28.0   10.0    20.0   30.0     4.0   13.0    0.0   24.0   20.0   \n",
            "323355   10.0    4.0    12.0   19.0     0.0    8.0    0.0   14.0   11.0   \n",
            "\n",
            "        화장품/미용 수신지_구명  수신지_구코드  \n",
            "0         89.0    NaN      NaN  \n",
            "1         74.0    NaN      NaN  \n",
            "2         78.0    NaN      NaN  \n",
            "3         30.0    NaN      NaN  \n",
            "4         44.0    NaN      NaN  \n",
            "...        ...    ...      ...  \n",
            "323351     9.0    관악구  11620.0  \n",
            "323352     5.0    서초구  11650.0  \n",
            "323353    25.0    강남구  11680.0  \n",
            "323354    27.0    송파구  11710.0  \n",
            "323355    13.0    강동구  11740.0  \n",
            "\n",
            "[323356 rows x 20 columns]\n"
          ]
        }
      ]
    },
    {
      "cell_type": "code",
      "source": [
        "cj_23.info()"
      ],
      "metadata": {
        "colab": {
          "base_uri": "https://localhost:8080/"
        },
        "id": "3r1aCkaD5FPi",
        "outputId": "ec8b9e6f-ec95-41a2-e52b-5be1c12354f7"
      },
      "execution_count": 20,
      "outputs": [
        {
          "output_type": "stream",
          "name": "stdout",
          "text": [
            "<class 'pandas.core.frame.DataFrame'>\n",
            "RangeIndex: 323356 entries, 0 to 323355\n",
            "Data columns (total 20 columns):\n",
            " #   Column   Non-Null Count   Dtype  \n",
            "---  ------   --------------   -----  \n",
            " 0   배송년월일    323356 non-null  int64  \n",
            " 1   발송지_시명   323356 non-null  object \n",
            " 2   발송지_시코드  323356 non-null  float64\n",
            " 3   발송지_구명   228617 non-null  object \n",
            " 4   발송지_구코드  228617 non-null  float64\n",
            " 5   수신지_시명   323356 non-null  object \n",
            " 6   수신지_시코드  323356 non-null  float64\n",
            " 7   가구/인테리어  323356 non-null  float64\n",
            " 8   기타       323356 non-null  float64\n",
            " 9   도서/음반    323356 non-null  float64\n",
            " 10  디지털/가전   323356 non-null  float64\n",
            " 11  생활/건강    323356 non-null  float64\n",
            " 12  스포츠/레저   323356 non-null  float64\n",
            " 13  식품       323356 non-null  float64\n",
            " 14  출산/육아    323356 non-null  float64\n",
            " 15  패션의류     323356 non-null  float64\n",
            " 16  패션잡화     323356 non-null  float64\n",
            " 17  화장품/미용   323356 non-null  float64\n",
            " 18  수신지_구명   233095 non-null  object \n",
            " 19  수신지_구코드  233095 non-null  float64\n",
            "dtypes: float64(15), int64(1), object(4)\n",
            "memory usage: 49.3+ MB\n"
          ]
        }
      ]
    },
    {
      "cell_type": "code",
      "source": [
        "concatenated_df = pd.concat([cj_21, cj_22, cj_23], ignore_index=True)\n",
        "print (concatenated_df)"
      ],
      "metadata": {
        "id": "ZrYbfDT_ncK0",
        "colab": {
          "base_uri": "https://localhost:8080/"
        },
        "outputId": "9bfae8c7-a21b-4bf6-d770-99d354fdacb5"
      },
      "execution_count": 21,
      "outputs": [
        {
          "output_type": "stream",
          "name": "stdout",
          "text": [
            "           배송년월일 발송지_시명  발송지_시코드 발송지_구명  발송지_구코드 수신지_시명  수신지_시코드  가구/인테리어  \\\n",
            "0       20210108  서울특별시     11.0    노원구  11350.0  부산광역시     26.0     60.0   \n",
            "1       20210108  서울특별시     11.0    노원구  11350.0  대구광역시     27.0     42.0   \n",
            "2       20210108  서울특별시     11.0    노원구  11350.0  인천광역시     28.0     73.0   \n",
            "3       20210108  서울특별시     11.0    노원구  11350.0  광주광역시     29.0     22.0   \n",
            "4       20210108  서울특별시     11.0    노원구  11350.0  대전광역시     30.0     37.0   \n",
            "...          ...    ...      ...    ...      ...    ...      ...      ...   \n",
            "887256  20230831  서울특별시     11.0    양천구  11470.0  서울특별시     11.0      0.0   \n",
            "887257  20230831  서울특별시     11.0    양천구  11470.0  서울특별시     11.0      0.0   \n",
            "887258  20230831  서울특별시     11.0    양천구  11470.0  서울특별시     11.0      3.0   \n",
            "887259  20230831  서울특별시     11.0    양천구  11470.0  서울특별시     11.0      5.0   \n",
            "887260  20230831  서울특별시     11.0    양천구  11470.0  서울특별시     11.0      4.0   \n",
            "\n",
            "           기타  도서/음반  디지털/가전  생활/건강  스포츠/레저     식품  출산/육아   패션의류  패션잡화  \\\n",
            "0       171.0   22.0    66.0  228.0    74.0  127.0   45.0  269.0  96.0   \n",
            "1       118.0   30.0    52.0  156.0    39.0  118.0   36.0  197.0  52.0   \n",
            "2       221.0   35.0    65.0  230.0    73.0  162.0   49.0  303.0  80.0   \n",
            "3        86.0   15.0    36.0   98.0    30.0   81.0   23.0  140.0  39.0   \n",
            "4        85.0    8.0    31.0  126.0    37.0   71.0   36.0  143.0  48.0   \n",
            "...       ...    ...     ...    ...     ...    ...    ...    ...   ...   \n",
            "887256   21.0    7.0    18.0   27.0     3.0   10.0    0.0   13.0  19.0   \n",
            "887257   16.0   11.0    29.0   28.0     4.0    7.0    0.0   16.0  17.0   \n",
            "887258   35.0   16.0    17.0   44.0    11.0   10.0   17.0   29.0  37.0   \n",
            "887259   28.0   10.0    20.0   30.0     4.0   13.0    0.0   24.0  20.0   \n",
            "887260   10.0    4.0    12.0   19.0     0.0    8.0    0.0   14.0  11.0   \n",
            "\n",
            "        화장품/미용 수신지_구명  수신지_구코드  \n",
            "0         98.0    NaN      NaN  \n",
            "1         53.0    NaN      NaN  \n",
            "2         89.0    NaN      NaN  \n",
            "3         46.0    NaN      NaN  \n",
            "4         50.0    NaN      NaN  \n",
            "...        ...    ...      ...  \n",
            "887256     9.0    관악구  11620.0  \n",
            "887257     5.0    서초구  11650.0  \n",
            "887258    25.0    강남구  11680.0  \n",
            "887259    27.0    송파구  11710.0  \n",
            "887260    13.0    강동구  11740.0  \n",
            "\n",
            "[887261 rows x 20 columns]\n"
          ]
        }
      ]
    },
    {
      "cell_type": "code",
      "source": [
        "concatenated_df.info()"
      ],
      "metadata": {
        "colab": {
          "base_uri": "https://localhost:8080/"
        },
        "id": "alzz3Ey55W6K",
        "outputId": "b0e75362-1290-4544-936c-6d350635edaa"
      },
      "execution_count": 22,
      "outputs": [
        {
          "output_type": "stream",
          "name": "stdout",
          "text": [
            "<class 'pandas.core.frame.DataFrame'>\n",
            "RangeIndex: 887261 entries, 0 to 887260\n",
            "Data columns (total 20 columns):\n",
            " #   Column   Non-Null Count   Dtype  \n",
            "---  ------   --------------   -----  \n",
            " 0   배송년월일    887261 non-null  int64  \n",
            " 1   발송지_시명   887261 non-null  object \n",
            " 2   발송지_시코드  887261 non-null  float64\n",
            " 3   발송지_구명   649995 non-null  object \n",
            " 4   발송지_구코드  649995 non-null  float64\n",
            " 5   수신지_시명   887261 non-null  object \n",
            " 6   수신지_시코드  887260 non-null  float64\n",
            " 7   가구/인테리어  887260 non-null  float64\n",
            " 8   기타       887260 non-null  float64\n",
            " 9   도서/음반    887260 non-null  float64\n",
            " 10  디지털/가전   887260 non-null  float64\n",
            " 11  생활/건강    887260 non-null  float64\n",
            " 12  스포츠/레저   887260 non-null  float64\n",
            " 13  식품       887260 non-null  float64\n",
            " 14  출산/육아    887260 non-null  float64\n",
            " 15  패션의류     887260 non-null  float64\n",
            " 16  패션잡화     887260 non-null  float64\n",
            " 17  화장품/미용   887260 non-null  float64\n",
            " 18  수신지_구명   585466 non-null  object \n",
            " 19  수신지_구코드  585466 non-null  float64\n",
            "dtypes: float64(15), int64(1), object(4)\n",
            "memory usage: 135.4+ MB\n"
          ]
        }
      ]
    },
    {
      "cell_type": "code",
      "source": [
        "concatenated_df['DL_YMD'].max()"
      ],
      "metadata": {
        "colab": {
          "base_uri": "https://localhost:8080/",
          "height": 539
        },
        "id": "8bydN7mR6lZ6",
        "outputId": "089cc06c-b05b-4df9-aefa-94e2f583c5f7"
      },
      "execution_count": 23,
      "outputs": [
        {
          "output_type": "error",
          "ename": "KeyError",
          "evalue": "ignored",
          "traceback": [
            "\u001b[0;31m---------------------------------------------------------------------------\u001b[0m",
            "\u001b[0;31mKeyError\u001b[0m                                  Traceback (most recent call last)",
            "\u001b[0;32m/usr/local/lib/python3.10/dist-packages/pandas/core/indexes/base.py\u001b[0m in \u001b[0;36mget_loc\u001b[0;34m(self, key, method, tolerance)\u001b[0m\n\u001b[1;32m   3801\u001b[0m             \u001b[0;32mtry\u001b[0m\u001b[0;34m:\u001b[0m\u001b[0;34m\u001b[0m\u001b[0;34m\u001b[0m\u001b[0m\n\u001b[0;32m-> 3802\u001b[0;31m                 \u001b[0;32mreturn\u001b[0m \u001b[0mself\u001b[0m\u001b[0;34m.\u001b[0m\u001b[0m_engine\u001b[0m\u001b[0;34m.\u001b[0m\u001b[0mget_loc\u001b[0m\u001b[0;34m(\u001b[0m\u001b[0mcasted_key\u001b[0m\u001b[0;34m)\u001b[0m\u001b[0;34m\u001b[0m\u001b[0;34m\u001b[0m\u001b[0m\n\u001b[0m\u001b[1;32m   3803\u001b[0m             \u001b[0;32mexcept\u001b[0m \u001b[0mKeyError\u001b[0m \u001b[0;32mas\u001b[0m \u001b[0merr\u001b[0m\u001b[0;34m:\u001b[0m\u001b[0;34m\u001b[0m\u001b[0;34m\u001b[0m\u001b[0m\n",
            "\u001b[0;32m/usr/local/lib/python3.10/dist-packages/pandas/_libs/index.pyx\u001b[0m in \u001b[0;36mpandas._libs.index.IndexEngine.get_loc\u001b[0;34m()\u001b[0m\n",
            "\u001b[0;32m/usr/local/lib/python3.10/dist-packages/pandas/_libs/index.pyx\u001b[0m in \u001b[0;36mpandas._libs.index.IndexEngine.get_loc\u001b[0;34m()\u001b[0m\n",
            "\u001b[0;32mpandas/_libs/hashtable_class_helper.pxi\u001b[0m in \u001b[0;36mpandas._libs.hashtable.PyObjectHashTable.get_item\u001b[0;34m()\u001b[0m\n",
            "\u001b[0;32mpandas/_libs/hashtable_class_helper.pxi\u001b[0m in \u001b[0;36mpandas._libs.hashtable.PyObjectHashTable.get_item\u001b[0;34m()\u001b[0m\n",
            "\u001b[0;31mKeyError\u001b[0m: 'DL_YMD'",
            "\nThe above exception was the direct cause of the following exception:\n",
            "\u001b[0;31mKeyError\u001b[0m                                  Traceback (most recent call last)",
            "\u001b[0;32m<ipython-input-23-a343c20c664f>\u001b[0m in \u001b[0;36m<cell line: 1>\u001b[0;34m()\u001b[0m\n\u001b[0;32m----> 1\u001b[0;31m \u001b[0mconcatenated_df\u001b[0m\u001b[0;34m[\u001b[0m\u001b[0;34m'DL_YMD'\u001b[0m\u001b[0;34m]\u001b[0m\u001b[0;34m.\u001b[0m\u001b[0mmax\u001b[0m\u001b[0;34m(\u001b[0m\u001b[0;34m)\u001b[0m\u001b[0;34m\u001b[0m\u001b[0;34m\u001b[0m\u001b[0m\n\u001b[0m",
            "\u001b[0;32m/usr/local/lib/python3.10/dist-packages/pandas/core/frame.py\u001b[0m in \u001b[0;36m__getitem__\u001b[0;34m(self, key)\u001b[0m\n\u001b[1;32m   3805\u001b[0m             \u001b[0;32mif\u001b[0m \u001b[0mself\u001b[0m\u001b[0;34m.\u001b[0m\u001b[0mcolumns\u001b[0m\u001b[0;34m.\u001b[0m\u001b[0mnlevels\u001b[0m \u001b[0;34m>\u001b[0m \u001b[0;36m1\u001b[0m\u001b[0;34m:\u001b[0m\u001b[0;34m\u001b[0m\u001b[0;34m\u001b[0m\u001b[0m\n\u001b[1;32m   3806\u001b[0m                 \u001b[0;32mreturn\u001b[0m \u001b[0mself\u001b[0m\u001b[0;34m.\u001b[0m\u001b[0m_getitem_multilevel\u001b[0m\u001b[0;34m(\u001b[0m\u001b[0mkey\u001b[0m\u001b[0;34m)\u001b[0m\u001b[0;34m\u001b[0m\u001b[0;34m\u001b[0m\u001b[0m\n\u001b[0;32m-> 3807\u001b[0;31m             \u001b[0mindexer\u001b[0m \u001b[0;34m=\u001b[0m \u001b[0mself\u001b[0m\u001b[0;34m.\u001b[0m\u001b[0mcolumns\u001b[0m\u001b[0;34m.\u001b[0m\u001b[0mget_loc\u001b[0m\u001b[0;34m(\u001b[0m\u001b[0mkey\u001b[0m\u001b[0;34m)\u001b[0m\u001b[0;34m\u001b[0m\u001b[0;34m\u001b[0m\u001b[0m\n\u001b[0m\u001b[1;32m   3808\u001b[0m             \u001b[0;32mif\u001b[0m \u001b[0mis_integer\u001b[0m\u001b[0;34m(\u001b[0m\u001b[0mindexer\u001b[0m\u001b[0;34m)\u001b[0m\u001b[0;34m:\u001b[0m\u001b[0;34m\u001b[0m\u001b[0;34m\u001b[0m\u001b[0m\n\u001b[1;32m   3809\u001b[0m                 \u001b[0mindexer\u001b[0m \u001b[0;34m=\u001b[0m \u001b[0;34m[\u001b[0m\u001b[0mindexer\u001b[0m\u001b[0;34m]\u001b[0m\u001b[0;34m\u001b[0m\u001b[0;34m\u001b[0m\u001b[0m\n",
            "\u001b[0;32m/usr/local/lib/python3.10/dist-packages/pandas/core/indexes/base.py\u001b[0m in \u001b[0;36mget_loc\u001b[0;34m(self, key, method, tolerance)\u001b[0m\n\u001b[1;32m   3802\u001b[0m                 \u001b[0;32mreturn\u001b[0m \u001b[0mself\u001b[0m\u001b[0;34m.\u001b[0m\u001b[0m_engine\u001b[0m\u001b[0;34m.\u001b[0m\u001b[0mget_loc\u001b[0m\u001b[0;34m(\u001b[0m\u001b[0mcasted_key\u001b[0m\u001b[0;34m)\u001b[0m\u001b[0;34m\u001b[0m\u001b[0;34m\u001b[0m\u001b[0m\n\u001b[1;32m   3803\u001b[0m             \u001b[0;32mexcept\u001b[0m \u001b[0mKeyError\u001b[0m \u001b[0;32mas\u001b[0m \u001b[0merr\u001b[0m\u001b[0;34m:\u001b[0m\u001b[0;34m\u001b[0m\u001b[0;34m\u001b[0m\u001b[0m\n\u001b[0;32m-> 3804\u001b[0;31m                 \u001b[0;32mraise\u001b[0m \u001b[0mKeyError\u001b[0m\u001b[0;34m(\u001b[0m\u001b[0mkey\u001b[0m\u001b[0;34m)\u001b[0m \u001b[0;32mfrom\u001b[0m \u001b[0merr\u001b[0m\u001b[0;34m\u001b[0m\u001b[0;34m\u001b[0m\u001b[0m\n\u001b[0m\u001b[1;32m   3805\u001b[0m             \u001b[0;32mexcept\u001b[0m \u001b[0mTypeError\u001b[0m\u001b[0;34m:\u001b[0m\u001b[0;34m\u001b[0m\u001b[0;34m\u001b[0m\u001b[0m\n\u001b[1;32m   3806\u001b[0m                 \u001b[0;31m# If we have a listlike key, _check_indexing_error will raise\u001b[0m\u001b[0;34m\u001b[0m\u001b[0;34m\u001b[0m\u001b[0m\n",
            "\u001b[0;31mKeyError\u001b[0m: 'DL_YMD'"
          ]
        }
      ]
    },
    {
      "cell_type": "code",
      "source": [
        "new_columns = {'DL_YMD': '배송년월일', 'SEND_CTPV_NM': '발송지_시명','SEND_CTGG_NM': '발송지_구명','SEND_CTGG_CD': '발송지_구코드' ,'SEND_CTPV_CD': '발송지_시코드',  'REC_CTPV_NM':'수신지_시명', 'REC_CTPV_CD': '수신지_시코드', 'REC_CTGG_NM': '수신지_구명', 'REC_CTGG_CD': '수신지_구코드', 'E_C_01': '가구/인테리어', 'E_C_02': '기타', 'E_C_03': '도서/음반','E_C_04': '디지털/가전', 'E_C_05': '생활/건강', 'E_C_06': '스포츠/레저', 'E_C_07': '식품', 'E_C_08': '출산/육아', 'E_C_09': '패션의류', 'E_C_10': '패션잡화', 'E_C_11': '화장품/미용'}\n",
        "concatenated_df.rename (columns = new_columns, inplace = True)\n",
        "print (concatenated_df)"
      ],
      "metadata": {
        "colab": {
          "base_uri": "https://localhost:8080/"
        },
        "id": "b6i4kKq76tX3",
        "outputId": "35efef4b-ce37-4ce1-dfa0-3635f742c9db"
      },
      "execution_count": 13,
      "outputs": [
        {
          "output_type": "stream",
          "name": "stdout",
          "text": [
            "           배송년월일 발송지_시명  발송지_시코드 발송지_구명  발송지_구코드 수신지_시명  수신지_시코드  가구/인테리어  \\\n",
            "0       20210108  서울특별시     11.0    노원구  11350.0  부산광역시     26.0     60.0   \n",
            "1       20210108  서울특별시     11.0    노원구  11350.0  대구광역시     27.0     42.0   \n",
            "2       20210108  서울특별시     11.0    노원구  11350.0  인천광역시     28.0     73.0   \n",
            "3       20210108  서울특별시     11.0    노원구  11350.0  광주광역시     29.0     22.0   \n",
            "4       20210108  서울특별시     11.0    노원구  11350.0  대전광역시     30.0     37.0   \n",
            "...          ...    ...      ...    ...      ...    ...      ...      ...   \n",
            "887256  20230831  서울특별시     11.0    양천구  11470.0  서울특별시     11.0      0.0   \n",
            "887257  20230831  서울특별시     11.0    양천구  11470.0  서울특별시     11.0      0.0   \n",
            "887258  20230831  서울특별시     11.0    양천구  11470.0  서울특별시     11.0      3.0   \n",
            "887259  20230831  서울특별시     11.0    양천구  11470.0  서울특별시     11.0      5.0   \n",
            "887260  20230831  서울특별시     11.0    양천구  11470.0  서울특별시     11.0      4.0   \n",
            "\n",
            "           기타  도서/음반  디지털/가전  생활/건강  스포츠/레저     식품  출산/육아   패션의류  패션잡화  \\\n",
            "0       171.0   22.0    66.0  228.0    74.0  127.0   45.0  269.0  96.0   \n",
            "1       118.0   30.0    52.0  156.0    39.0  118.0   36.0  197.0  52.0   \n",
            "2       221.0   35.0    65.0  230.0    73.0  162.0   49.0  303.0  80.0   \n",
            "3        86.0   15.0    36.0   98.0    30.0   81.0   23.0  140.0  39.0   \n",
            "4        85.0    8.0    31.0  126.0    37.0   71.0   36.0  143.0  48.0   \n",
            "...       ...    ...     ...    ...     ...    ...    ...    ...   ...   \n",
            "887256   21.0    7.0    18.0   27.0     3.0   10.0    0.0   13.0  19.0   \n",
            "887257   16.0   11.0    29.0   28.0     4.0    7.0    0.0   16.0  17.0   \n",
            "887258   35.0   16.0    17.0   44.0    11.0   10.0   17.0   29.0  37.0   \n",
            "887259   28.0   10.0    20.0   30.0     4.0   13.0    0.0   24.0  20.0   \n",
            "887260   10.0    4.0    12.0   19.0     0.0    8.0    0.0   14.0  11.0   \n",
            "\n",
            "        화장품/미용 수신지_구명  수신지_구코드  \n",
            "0         98.0    NaN      NaN  \n",
            "1         53.0    NaN      NaN  \n",
            "2         89.0    NaN      NaN  \n",
            "3         46.0    NaN      NaN  \n",
            "4         50.0    NaN      NaN  \n",
            "...        ...    ...      ...  \n",
            "887256     9.0    관악구  11620.0  \n",
            "887257     5.0    서초구  11650.0  \n",
            "887258    25.0    강남구  11680.0  \n",
            "887259    27.0    송파구  11710.0  \n",
            "887260    13.0    강동구  11740.0  \n",
            "\n",
            "[887261 rows x 20 columns]\n"
          ]
        }
      ]
    },
    {
      "cell_type": "code",
      "source": [
        "new_columns = {'배송년월일': 'DATE', '발송지_시명': 'SEND_CTPV_NM','발송지_구명': 'SEND_CTGG_NM','발송지_구코드': 'SEND_CTGG_CD' ,'발송지_시코드': 'SEND_CTPV_CD',  '수신지_시명':'REC_CTPV_NM', '수신지_시코드': 'REC_CTPV_CD', '수신지_구명': 'REC_CTGG_NM', '수신지_구코드': 'REC_CTGG_CD', '가구/인테리어': 'FURNITURE/INTERIOR', '기타': 'ETC', '도서/음반': 'BOOK/RECORD','디지털/가전': 'DITIGAL/HOME APPLIANCE', '생활/건강': 'LIFE/HEALTH', '스포츠/레저': 'SPORTS', '식품': 'FOOD', '출산/육아': 'MATERNITY SUPPLIES', '패션의류': 'CLOTHING', '패션잡화': 'MISCELLANEOUS GOODS', '화장품/미용': 'COSTMETICS/BEAUTY', '총물량': 'TOTAL'}\n",
        "concatenated_df.rename (columns = new_columns, inplace = True)\n",
        "print (concatenated_df)"
      ],
      "metadata": {
        "colab": {
          "base_uri": "https://localhost:8080/"
        },
        "id": "4V1bcqF264or",
        "outputId": "37c88fa3-7693-43cb-efb3-49cf8c6a761d"
      },
      "execution_count": 24,
      "outputs": [
        {
          "output_type": "stream",
          "name": "stdout",
          "text": [
            "            DATE SEND_CTPV_NM  SEND_CTPV_CD SEND_CTGG_NM  SEND_CTGG_CD  \\\n",
            "0       20210108        서울특별시          11.0          노원구       11350.0   \n",
            "1       20210108        서울특별시          11.0          노원구       11350.0   \n",
            "2       20210108        서울특별시          11.0          노원구       11350.0   \n",
            "3       20210108        서울특별시          11.0          노원구       11350.0   \n",
            "4       20210108        서울특별시          11.0          노원구       11350.0   \n",
            "...          ...          ...           ...          ...           ...   \n",
            "887256  20230831        서울특별시          11.0          양천구       11470.0   \n",
            "887257  20230831        서울특별시          11.0          양천구       11470.0   \n",
            "887258  20230831        서울특별시          11.0          양천구       11470.0   \n",
            "887259  20230831        서울특별시          11.0          양천구       11470.0   \n",
            "887260  20230831        서울특별시          11.0          양천구       11470.0   \n",
            "\n",
            "       REC_CTPV_NM  REC_CTPV_CD  FURNITURE/INTERIOR    ETC  BOOK/RECORD  \\\n",
            "0            부산광역시         26.0                60.0  171.0         22.0   \n",
            "1            대구광역시         27.0                42.0  118.0         30.0   \n",
            "2            인천광역시         28.0                73.0  221.0         35.0   \n",
            "3            광주광역시         29.0                22.0   86.0         15.0   \n",
            "4            대전광역시         30.0                37.0   85.0          8.0   \n",
            "...            ...          ...                 ...    ...          ...   \n",
            "887256       서울특별시         11.0                 0.0   21.0          7.0   \n",
            "887257       서울특별시         11.0                 0.0   16.0         11.0   \n",
            "887258       서울특별시         11.0                 3.0   35.0         16.0   \n",
            "887259       서울특별시         11.0                 5.0   28.0         10.0   \n",
            "887260       서울특별시         11.0                 4.0   10.0          4.0   \n",
            "\n",
            "        DITIGAL/HOME APPLIANCE  LIFE/HEALTH  SPORTS   FOOD  \\\n",
            "0                         66.0        228.0    74.0  127.0   \n",
            "1                         52.0        156.0    39.0  118.0   \n",
            "2                         65.0        230.0    73.0  162.0   \n",
            "3                         36.0         98.0    30.0   81.0   \n",
            "4                         31.0        126.0    37.0   71.0   \n",
            "...                        ...          ...     ...    ...   \n",
            "887256                    18.0         27.0     3.0   10.0   \n",
            "887257                    29.0         28.0     4.0    7.0   \n",
            "887258                    17.0         44.0    11.0   10.0   \n",
            "887259                    20.0         30.0     4.0   13.0   \n",
            "887260                    12.0         19.0     0.0    8.0   \n",
            "\n",
            "        MATERNITY SUPPLIES  CLOTHING  MISCELLANEOUS GOODS  COSTMETICS/BEAUTY  \\\n",
            "0                     45.0     269.0                 96.0               98.0   \n",
            "1                     36.0     197.0                 52.0               53.0   \n",
            "2                     49.0     303.0                 80.0               89.0   \n",
            "3                     23.0     140.0                 39.0               46.0   \n",
            "4                     36.0     143.0                 48.0               50.0   \n",
            "...                    ...       ...                  ...                ...   \n",
            "887256                 0.0      13.0                 19.0                9.0   \n",
            "887257                 0.0      16.0                 17.0                5.0   \n",
            "887258                17.0      29.0                 37.0               25.0   \n",
            "887259                 0.0      24.0                 20.0               27.0   \n",
            "887260                 0.0      14.0                 11.0               13.0   \n",
            "\n",
            "       REC_CTGG_NM  REC_CTGG_CD  \n",
            "0              NaN          NaN  \n",
            "1              NaN          NaN  \n",
            "2              NaN          NaN  \n",
            "3              NaN          NaN  \n",
            "4              NaN          NaN  \n",
            "...            ...          ...  \n",
            "887256         관악구      11620.0  \n",
            "887257         서초구      11650.0  \n",
            "887258         강남구      11680.0  \n",
            "887259         송파구      11710.0  \n",
            "887260         강동구      11740.0  \n",
            "\n",
            "[887261 rows x 20 columns]\n"
          ]
        }
      ]
    },
    {
      "cell_type": "code",
      "source": [
        "concatenated_df['DATE'].max()"
      ],
      "metadata": {
        "colab": {
          "base_uri": "https://localhost:8080/"
        },
        "id": "SnxWoaKf7AFB",
        "outputId": "7f59f035-ac94-4228-81fd-c17070669dca"
      },
      "execution_count": 25,
      "outputs": [
        {
          "output_type": "execute_result",
          "data": {
            "text/plain": [
              "20230831"
            ]
          },
          "metadata": {},
          "execution_count": 25
        }
      ]
    },
    {
      "cell_type": "code",
      "source": [
        "columns_to_sum = ['FURNITURE/INTERIOR','ETC', 'BOOK/RECORD', 'DITIGAL/HOME APPLIANCE', 'LIFE/HEALTH', 'SPORTS', 'FOOD', 'MATERNITY SUPPLIES', 'CLOTHING', 'MISCELLANEOUS GOODS', 'COSTMETICS/BEAUTY']\n",
        "concatenated_df['TOTAL'] = concatenated_df[columns_to_sum].sum(axis=1)\n",
        "print (concatenated_df)"
      ],
      "metadata": {
        "colab": {
          "base_uri": "https://localhost:8080/"
        },
        "id": "zh5fHjUH7LLM",
        "outputId": "1aec92cd-31b2-48d4-9549-052e99d6342e"
      },
      "execution_count": 26,
      "outputs": [
        {
          "output_type": "stream",
          "name": "stdout",
          "text": [
            "            DATE SEND_CTPV_NM  SEND_CTPV_CD SEND_CTGG_NM  SEND_CTGG_CD  \\\n",
            "0       20210108        서울특별시          11.0          노원구       11350.0   \n",
            "1       20210108        서울특별시          11.0          노원구       11350.0   \n",
            "2       20210108        서울특별시          11.0          노원구       11350.0   \n",
            "3       20210108        서울특별시          11.0          노원구       11350.0   \n",
            "4       20210108        서울특별시          11.0          노원구       11350.0   \n",
            "...          ...          ...           ...          ...           ...   \n",
            "887256  20230831        서울특별시          11.0          양천구       11470.0   \n",
            "887257  20230831        서울특별시          11.0          양천구       11470.0   \n",
            "887258  20230831        서울특별시          11.0          양천구       11470.0   \n",
            "887259  20230831        서울특별시          11.0          양천구       11470.0   \n",
            "887260  20230831        서울특별시          11.0          양천구       11470.0   \n",
            "\n",
            "       REC_CTPV_NM  REC_CTPV_CD  FURNITURE/INTERIOR    ETC  BOOK/RECORD  ...  \\\n",
            "0            부산광역시         26.0                60.0  171.0         22.0  ...   \n",
            "1            대구광역시         27.0                42.0  118.0         30.0  ...   \n",
            "2            인천광역시         28.0                73.0  221.0         35.0  ...   \n",
            "3            광주광역시         29.0                22.0   86.0         15.0  ...   \n",
            "4            대전광역시         30.0                37.0   85.0          8.0  ...   \n",
            "...            ...          ...                 ...    ...          ...  ...   \n",
            "887256       서울특별시         11.0                 0.0   21.0          7.0  ...   \n",
            "887257       서울특별시         11.0                 0.0   16.0         11.0  ...   \n",
            "887258       서울특별시         11.0                 3.0   35.0         16.0  ...   \n",
            "887259       서울특별시         11.0                 5.0   28.0         10.0  ...   \n",
            "887260       서울특별시         11.0                 4.0   10.0          4.0  ...   \n",
            "\n",
            "        LIFE/HEALTH  SPORTS   FOOD  MATERNITY SUPPLIES  CLOTHING  \\\n",
            "0             228.0    74.0  127.0                45.0     269.0   \n",
            "1             156.0    39.0  118.0                36.0     197.0   \n",
            "2             230.0    73.0  162.0                49.0     303.0   \n",
            "3              98.0    30.0   81.0                23.0     140.0   \n",
            "4             126.0    37.0   71.0                36.0     143.0   \n",
            "...             ...     ...    ...                 ...       ...   \n",
            "887256         27.0     3.0   10.0                 0.0      13.0   \n",
            "887257         28.0     4.0    7.0                 0.0      16.0   \n",
            "887258         44.0    11.0   10.0                17.0      29.0   \n",
            "887259         30.0     4.0   13.0                 0.0      24.0   \n",
            "887260         19.0     0.0    8.0                 0.0      14.0   \n",
            "\n",
            "        MISCELLANEOUS GOODS  COSTMETICS/BEAUTY  REC_CTGG_NM REC_CTGG_CD  \\\n",
            "0                      96.0               98.0          NaN         NaN   \n",
            "1                      52.0               53.0          NaN         NaN   \n",
            "2                      80.0               89.0          NaN         NaN   \n",
            "3                      39.0               46.0          NaN         NaN   \n",
            "4                      48.0               50.0          NaN         NaN   \n",
            "...                     ...                ...          ...         ...   \n",
            "887256                 19.0                9.0          관악구     11620.0   \n",
            "887257                 17.0                5.0          서초구     11650.0   \n",
            "887258                 37.0               25.0          강남구     11680.0   \n",
            "887259                 20.0               27.0          송파구     11710.0   \n",
            "887260                 11.0               13.0          강동구     11740.0   \n",
            "\n",
            "         TOTAL  \n",
            "0       1256.0  \n",
            "1        893.0  \n",
            "2       1380.0  \n",
            "3        616.0  \n",
            "4        672.0  \n",
            "...        ...  \n",
            "887256   127.0  \n",
            "887257   133.0  \n",
            "887258   244.0  \n",
            "887259   181.0  \n",
            "887260    95.0  \n",
            "\n",
            "[887261 rows x 21 columns]\n"
          ]
        }
      ]
    },
    {
      "cell_type": "code",
      "source": [
        "concatenated_df.info()"
      ],
      "metadata": {
        "colab": {
          "base_uri": "https://localhost:8080/"
        },
        "id": "j8hic2Sy8g9t",
        "outputId": "9da0ecf8-3a5e-4569-98d0-1749beb66aa3"
      },
      "execution_count": 27,
      "outputs": [
        {
          "output_type": "stream",
          "name": "stdout",
          "text": [
            "<class 'pandas.core.frame.DataFrame'>\n",
            "RangeIndex: 887261 entries, 0 to 887260\n",
            "Data columns (total 21 columns):\n",
            " #   Column                  Non-Null Count   Dtype  \n",
            "---  ------                  --------------   -----  \n",
            " 0   DATE                    887261 non-null  int64  \n",
            " 1   SEND_CTPV_NM            887261 non-null  object \n",
            " 2   SEND_CTPV_CD            887261 non-null  float64\n",
            " 3   SEND_CTGG_NM            649995 non-null  object \n",
            " 4   SEND_CTGG_CD            649995 non-null  float64\n",
            " 5   REC_CTPV_NM             887261 non-null  object \n",
            " 6   REC_CTPV_CD             887260 non-null  float64\n",
            " 7   FURNITURE/INTERIOR      887260 non-null  float64\n",
            " 8   ETC                     887260 non-null  float64\n",
            " 9   BOOK/RECORD             887260 non-null  float64\n",
            " 10  DITIGAL/HOME APPLIANCE  887260 non-null  float64\n",
            " 11  LIFE/HEALTH             887260 non-null  float64\n",
            " 12  SPORTS                  887260 non-null  float64\n",
            " 13  FOOD                    887260 non-null  float64\n",
            " 14  MATERNITY SUPPLIES      887260 non-null  float64\n",
            " 15  CLOTHING                887260 non-null  float64\n",
            " 16  MISCELLANEOUS GOODS     887260 non-null  float64\n",
            " 17  COSTMETICS/BEAUTY       887260 non-null  float64\n",
            " 18  REC_CTGG_NM             585466 non-null  object \n",
            " 19  REC_CTGG_CD             585466 non-null  float64\n",
            " 20  TOTAL                   887261 non-null  float64\n",
            "dtypes: float64(16), int64(1), object(4)\n",
            "memory usage: 142.2+ MB\n"
          ]
        }
      ]
    },
    {
      "cell_type": "code",
      "source": [
        "concatenated_df['SEND_CTPV_NM'] = concatenated_df['SEND_CTPV_NM'].replace(0, pd.NA)\n",
        "concatenated_df['SEND_CTPV_NM'] = concatenated_df['SEND_CTPV_NM'].astype(str)\n",
        "print (concatenated_df)"
      ],
      "metadata": {
        "colab": {
          "base_uri": "https://localhost:8080/"
        },
        "id": "nOaP_tob7u1N",
        "outputId": "39ab43c1-df8a-4f9b-d260-af844e009315"
      },
      "execution_count": 28,
      "outputs": [
        {
          "output_type": "stream",
          "name": "stdout",
          "text": [
            "            DATE SEND_CTPV_NM  SEND_CTPV_CD SEND_CTGG_NM  SEND_CTGG_CD  \\\n",
            "0       20210108        서울특별시          11.0          노원구       11350.0   \n",
            "1       20210108        서울특별시          11.0          노원구       11350.0   \n",
            "2       20210108        서울특별시          11.0          노원구       11350.0   \n",
            "3       20210108        서울특별시          11.0          노원구       11350.0   \n",
            "4       20210108        서울특별시          11.0          노원구       11350.0   \n",
            "...          ...          ...           ...          ...           ...   \n",
            "887256  20230831        서울특별시          11.0          양천구       11470.0   \n",
            "887257  20230831        서울특별시          11.0          양천구       11470.0   \n",
            "887258  20230831        서울특별시          11.0          양천구       11470.0   \n",
            "887259  20230831        서울특별시          11.0          양천구       11470.0   \n",
            "887260  20230831        서울특별시          11.0          양천구       11470.0   \n",
            "\n",
            "       REC_CTPV_NM  REC_CTPV_CD  FURNITURE/INTERIOR    ETC  BOOK/RECORD  ...  \\\n",
            "0            부산광역시         26.0                60.0  171.0         22.0  ...   \n",
            "1            대구광역시         27.0                42.0  118.0         30.0  ...   \n",
            "2            인천광역시         28.0                73.0  221.0         35.0  ...   \n",
            "3            광주광역시         29.0                22.0   86.0         15.0  ...   \n",
            "4            대전광역시         30.0                37.0   85.0          8.0  ...   \n",
            "...            ...          ...                 ...    ...          ...  ...   \n",
            "887256       서울특별시         11.0                 0.0   21.0          7.0  ...   \n",
            "887257       서울특별시         11.0                 0.0   16.0         11.0  ...   \n",
            "887258       서울특별시         11.0                 3.0   35.0         16.0  ...   \n",
            "887259       서울특별시         11.0                 5.0   28.0         10.0  ...   \n",
            "887260       서울특별시         11.0                 4.0   10.0          4.0  ...   \n",
            "\n",
            "        LIFE/HEALTH  SPORTS   FOOD  MATERNITY SUPPLIES  CLOTHING  \\\n",
            "0             228.0    74.0  127.0                45.0     269.0   \n",
            "1             156.0    39.0  118.0                36.0     197.0   \n",
            "2             230.0    73.0  162.0                49.0     303.0   \n",
            "3              98.0    30.0   81.0                23.0     140.0   \n",
            "4             126.0    37.0   71.0                36.0     143.0   \n",
            "...             ...     ...    ...                 ...       ...   \n",
            "887256         27.0     3.0   10.0                 0.0      13.0   \n",
            "887257         28.0     4.0    7.0                 0.0      16.0   \n",
            "887258         44.0    11.0   10.0                17.0      29.0   \n",
            "887259         30.0     4.0   13.0                 0.0      24.0   \n",
            "887260         19.0     0.0    8.0                 0.0      14.0   \n",
            "\n",
            "        MISCELLANEOUS GOODS  COSTMETICS/BEAUTY  REC_CTGG_NM REC_CTGG_CD  \\\n",
            "0                      96.0               98.0          NaN         NaN   \n",
            "1                      52.0               53.0          NaN         NaN   \n",
            "2                      80.0               89.0          NaN         NaN   \n",
            "3                      39.0               46.0          NaN         NaN   \n",
            "4                      48.0               50.0          NaN         NaN   \n",
            "...                     ...                ...          ...         ...   \n",
            "887256                 19.0                9.0          관악구     11620.0   \n",
            "887257                 17.0                5.0          서초구     11650.0   \n",
            "887258                 37.0               25.0          강남구     11680.0   \n",
            "887259                 20.0               27.0          송파구     11710.0   \n",
            "887260                 11.0               13.0          강동구     11740.0   \n",
            "\n",
            "         TOTAL  \n",
            "0       1256.0  \n",
            "1        893.0  \n",
            "2       1380.0  \n",
            "3        616.0  \n",
            "4        672.0  \n",
            "...        ...  \n",
            "887256   127.0  \n",
            "887257   133.0  \n",
            "887258   244.0  \n",
            "887259   181.0  \n",
            "887260    95.0  \n",
            "\n",
            "[887261 rows x 21 columns]\n"
          ]
        }
      ]
    },
    {
      "cell_type": "code",
      "source": [
        "concatenated_df['REC_CTPV_NM'] = concatenated_df['REC_CTPV_NM'].replace(0, pd.NA)\n",
        "concatenated_df['REC_CTPV_NM'] = concatenated_df['REC_CTPV_NM'].astype(str)\n",
        "print(concatenated_df)"
      ],
      "metadata": {
        "colab": {
          "base_uri": "https://localhost:8080/"
        },
        "id": "I-jXar5O8ObC",
        "outputId": "2d75e092-76aa-413f-c3fc-88216be717f4"
      },
      "execution_count": 29,
      "outputs": [
        {
          "output_type": "stream",
          "name": "stdout",
          "text": [
            "            DATE SEND_CTPV_NM  SEND_CTPV_CD SEND_CTGG_NM  SEND_CTGG_CD  \\\n",
            "0       20210108        서울특별시          11.0          노원구       11350.0   \n",
            "1       20210108        서울특별시          11.0          노원구       11350.0   \n",
            "2       20210108        서울특별시          11.0          노원구       11350.0   \n",
            "3       20210108        서울특별시          11.0          노원구       11350.0   \n",
            "4       20210108        서울특별시          11.0          노원구       11350.0   \n",
            "...          ...          ...           ...          ...           ...   \n",
            "887256  20230831        서울특별시          11.0          양천구       11470.0   \n",
            "887257  20230831        서울특별시          11.0          양천구       11470.0   \n",
            "887258  20230831        서울특별시          11.0          양천구       11470.0   \n",
            "887259  20230831        서울특별시          11.0          양천구       11470.0   \n",
            "887260  20230831        서울특별시          11.0          양천구       11470.0   \n",
            "\n",
            "       REC_CTPV_NM  REC_CTPV_CD  FURNITURE/INTERIOR    ETC  BOOK/RECORD  ...  \\\n",
            "0            부산광역시         26.0                60.0  171.0         22.0  ...   \n",
            "1            대구광역시         27.0                42.0  118.0         30.0  ...   \n",
            "2            인천광역시         28.0                73.0  221.0         35.0  ...   \n",
            "3            광주광역시         29.0                22.0   86.0         15.0  ...   \n",
            "4            대전광역시         30.0                37.0   85.0          8.0  ...   \n",
            "...            ...          ...                 ...    ...          ...  ...   \n",
            "887256       서울특별시         11.0                 0.0   21.0          7.0  ...   \n",
            "887257       서울특별시         11.0                 0.0   16.0         11.0  ...   \n",
            "887258       서울특별시         11.0                 3.0   35.0         16.0  ...   \n",
            "887259       서울특별시         11.0                 5.0   28.0         10.0  ...   \n",
            "887260       서울특별시         11.0                 4.0   10.0          4.0  ...   \n",
            "\n",
            "        LIFE/HEALTH  SPORTS   FOOD  MATERNITY SUPPLIES  CLOTHING  \\\n",
            "0             228.0    74.0  127.0                45.0     269.0   \n",
            "1             156.0    39.0  118.0                36.0     197.0   \n",
            "2             230.0    73.0  162.0                49.0     303.0   \n",
            "3              98.0    30.0   81.0                23.0     140.0   \n",
            "4             126.0    37.0   71.0                36.0     143.0   \n",
            "...             ...     ...    ...                 ...       ...   \n",
            "887256         27.0     3.0   10.0                 0.0      13.0   \n",
            "887257         28.0     4.0    7.0                 0.0      16.0   \n",
            "887258         44.0    11.0   10.0                17.0      29.0   \n",
            "887259         30.0     4.0   13.0                 0.0      24.0   \n",
            "887260         19.0     0.0    8.0                 0.0      14.0   \n",
            "\n",
            "        MISCELLANEOUS GOODS  COSTMETICS/BEAUTY  REC_CTGG_NM REC_CTGG_CD  \\\n",
            "0                      96.0               98.0          NaN         NaN   \n",
            "1                      52.0               53.0          NaN         NaN   \n",
            "2                      80.0               89.0          NaN         NaN   \n",
            "3                      39.0               46.0          NaN         NaN   \n",
            "4                      48.0               50.0          NaN         NaN   \n",
            "...                     ...                ...          ...         ...   \n",
            "887256                 19.0                9.0          관악구     11620.0   \n",
            "887257                 17.0                5.0          서초구     11650.0   \n",
            "887258                 37.0               25.0          강남구     11680.0   \n",
            "887259                 20.0               27.0          송파구     11710.0   \n",
            "887260                 11.0               13.0          강동구     11740.0   \n",
            "\n",
            "         TOTAL  \n",
            "0       1256.0  \n",
            "1        893.0  \n",
            "2       1380.0  \n",
            "3        616.0  \n",
            "4        672.0  \n",
            "...        ...  \n",
            "887256   127.0  \n",
            "887257   133.0  \n",
            "887258   244.0  \n",
            "887259   181.0  \n",
            "887260    95.0  \n",
            "\n",
            "[887261 rows x 21 columns]\n"
          ]
        }
      ]
    },
    {
      "cell_type": "code",
      "source": [
        "concatenated_df.info()"
      ],
      "metadata": {
        "colab": {
          "base_uri": "https://localhost:8080/"
        },
        "id": "1tE9dfmd8nKp",
        "outputId": "165348a0-d7ce-47ef-bd97-fd38e9da8249"
      },
      "execution_count": 30,
      "outputs": [
        {
          "output_type": "stream",
          "name": "stdout",
          "text": [
            "<class 'pandas.core.frame.DataFrame'>\n",
            "RangeIndex: 887261 entries, 0 to 887260\n",
            "Data columns (total 21 columns):\n",
            " #   Column                  Non-Null Count   Dtype  \n",
            "---  ------                  --------------   -----  \n",
            " 0   DATE                    887261 non-null  int64  \n",
            " 1   SEND_CTPV_NM            887261 non-null  object \n",
            " 2   SEND_CTPV_CD            887261 non-null  float64\n",
            " 3   SEND_CTGG_NM            649995 non-null  object \n",
            " 4   SEND_CTGG_CD            649995 non-null  float64\n",
            " 5   REC_CTPV_NM             887261 non-null  object \n",
            " 6   REC_CTPV_CD             887260 non-null  float64\n",
            " 7   FURNITURE/INTERIOR      887260 non-null  float64\n",
            " 8   ETC                     887260 non-null  float64\n",
            " 9   BOOK/RECORD             887260 non-null  float64\n",
            " 10  DITIGAL/HOME APPLIANCE  887260 non-null  float64\n",
            " 11  LIFE/HEALTH             887260 non-null  float64\n",
            " 12  SPORTS                  887260 non-null  float64\n",
            " 13  FOOD                    887260 non-null  float64\n",
            " 14  MATERNITY SUPPLIES      887260 non-null  float64\n",
            " 15  CLOTHING                887260 non-null  float64\n",
            " 16  MISCELLANEOUS GOODS     887260 non-null  float64\n",
            " 17  COSTMETICS/BEAUTY       887260 non-null  float64\n",
            " 18  REC_CTGG_NM             585466 non-null  object \n",
            " 19  REC_CTGG_CD             585466 non-null  float64\n",
            " 20  TOTAL                   887261 non-null  float64\n",
            "dtypes: float64(16), int64(1), object(4)\n",
            "memory usage: 142.2+ MB\n"
          ]
        }
      ]
    },
    {
      "cell_type": "code",
      "source": [
        "import numpy as np\n",
        "columns_to_fill = ['FURNITURE/INTERIOR', 'ETC', 'BOOK/RECORD', 'FOOD', 'MATERNITY SUPPLIES', 'CLOTHING', 'MISCELLANEOUS GOODS',\n",
        "                   'COSTMETICS/BEAUTY', 'DITIGAL/HOME APPLIANCE', 'LIFE/HEALTH', 'SPORTS']\n",
        "concatenated_df[columns_to_fill] = concatenated_df[columns_to_fill].fillna(0)\n",
        "\n",
        "print(concatenated_df)"
      ],
      "metadata": {
        "colab": {
          "base_uri": "https://localhost:8080/"
        },
        "id": "mPWdslWD8F54",
        "outputId": "1ff5a185-d8f0-4841-8c28-c168e6a5a499"
      },
      "execution_count": 31,
      "outputs": [
        {
          "output_type": "stream",
          "name": "stdout",
          "text": [
            "            DATE SEND_CTPV_NM  SEND_CTPV_CD SEND_CTGG_NM  SEND_CTGG_CD  \\\n",
            "0       20210108        서울특별시          11.0          노원구       11350.0   \n",
            "1       20210108        서울특별시          11.0          노원구       11350.0   \n",
            "2       20210108        서울특별시          11.0          노원구       11350.0   \n",
            "3       20210108        서울특별시          11.0          노원구       11350.0   \n",
            "4       20210108        서울특별시          11.0          노원구       11350.0   \n",
            "...          ...          ...           ...          ...           ...   \n",
            "887256  20230831        서울특별시          11.0          양천구       11470.0   \n",
            "887257  20230831        서울특별시          11.0          양천구       11470.0   \n",
            "887258  20230831        서울특별시          11.0          양천구       11470.0   \n",
            "887259  20230831        서울특별시          11.0          양천구       11470.0   \n",
            "887260  20230831        서울특별시          11.0          양천구       11470.0   \n",
            "\n",
            "       REC_CTPV_NM  REC_CTPV_CD  FURNITURE/INTERIOR    ETC  BOOK/RECORD  ...  \\\n",
            "0            부산광역시         26.0                60.0  171.0         22.0  ...   \n",
            "1            대구광역시         27.0                42.0  118.0         30.0  ...   \n",
            "2            인천광역시         28.0                73.0  221.0         35.0  ...   \n",
            "3            광주광역시         29.0                22.0   86.0         15.0  ...   \n",
            "4            대전광역시         30.0                37.0   85.0          8.0  ...   \n",
            "...            ...          ...                 ...    ...          ...  ...   \n",
            "887256       서울특별시         11.0                 0.0   21.0          7.0  ...   \n",
            "887257       서울특별시         11.0                 0.0   16.0         11.0  ...   \n",
            "887258       서울특별시         11.0                 3.0   35.0         16.0  ...   \n",
            "887259       서울특별시         11.0                 5.0   28.0         10.0  ...   \n",
            "887260       서울특별시         11.0                 4.0   10.0          4.0  ...   \n",
            "\n",
            "        LIFE/HEALTH  SPORTS   FOOD  MATERNITY SUPPLIES  CLOTHING  \\\n",
            "0             228.0    74.0  127.0                45.0     269.0   \n",
            "1             156.0    39.0  118.0                36.0     197.0   \n",
            "2             230.0    73.0  162.0                49.0     303.0   \n",
            "3              98.0    30.0   81.0                23.0     140.0   \n",
            "4             126.0    37.0   71.0                36.0     143.0   \n",
            "...             ...     ...    ...                 ...       ...   \n",
            "887256         27.0     3.0   10.0                 0.0      13.0   \n",
            "887257         28.0     4.0    7.0                 0.0      16.0   \n",
            "887258         44.0    11.0   10.0                17.0      29.0   \n",
            "887259         30.0     4.0   13.0                 0.0      24.0   \n",
            "887260         19.0     0.0    8.0                 0.0      14.0   \n",
            "\n",
            "        MISCELLANEOUS GOODS  COSTMETICS/BEAUTY  REC_CTGG_NM REC_CTGG_CD  \\\n",
            "0                      96.0               98.0          NaN         NaN   \n",
            "1                      52.0               53.0          NaN         NaN   \n",
            "2                      80.0               89.0          NaN         NaN   \n",
            "3                      39.0               46.0          NaN         NaN   \n",
            "4                      48.0               50.0          NaN         NaN   \n",
            "...                     ...                ...          ...         ...   \n",
            "887256                 19.0                9.0          관악구     11620.0   \n",
            "887257                 17.0                5.0          서초구     11650.0   \n",
            "887258                 37.0               25.0          강남구     11680.0   \n",
            "887259                 20.0               27.0          송파구     11710.0   \n",
            "887260                 11.0               13.0          강동구     11740.0   \n",
            "\n",
            "         TOTAL  \n",
            "0       1256.0  \n",
            "1        893.0  \n",
            "2       1380.0  \n",
            "3        616.0  \n",
            "4        672.0  \n",
            "...        ...  \n",
            "887256   127.0  \n",
            "887257   133.0  \n",
            "887258   244.0  \n",
            "887259   181.0  \n",
            "887260    95.0  \n",
            "\n",
            "[887261 rows x 21 columns]\n"
          ]
        }
      ]
    },
    {
      "cell_type": "code",
      "source": [
        "concatenated_df.info()"
      ],
      "metadata": {
        "colab": {
          "base_uri": "https://localhost:8080/"
        },
        "id": "hysFUh3P83GE",
        "outputId": "c1fbfedc-cbc2-4aef-869c-50aa78c61424"
      },
      "execution_count": 32,
      "outputs": [
        {
          "output_type": "stream",
          "name": "stdout",
          "text": [
            "<class 'pandas.core.frame.DataFrame'>\n",
            "RangeIndex: 887261 entries, 0 to 887260\n",
            "Data columns (total 21 columns):\n",
            " #   Column                  Non-Null Count   Dtype  \n",
            "---  ------                  --------------   -----  \n",
            " 0   DATE                    887261 non-null  int64  \n",
            " 1   SEND_CTPV_NM            887261 non-null  object \n",
            " 2   SEND_CTPV_CD            887261 non-null  float64\n",
            " 3   SEND_CTGG_NM            649995 non-null  object \n",
            " 4   SEND_CTGG_CD            649995 non-null  float64\n",
            " 5   REC_CTPV_NM             887261 non-null  object \n",
            " 6   REC_CTPV_CD             887260 non-null  float64\n",
            " 7   FURNITURE/INTERIOR      887261 non-null  float64\n",
            " 8   ETC                     887261 non-null  float64\n",
            " 9   BOOK/RECORD             887261 non-null  float64\n",
            " 10  DITIGAL/HOME APPLIANCE  887261 non-null  float64\n",
            " 11  LIFE/HEALTH             887261 non-null  float64\n",
            " 12  SPORTS                  887261 non-null  float64\n",
            " 13  FOOD                    887261 non-null  float64\n",
            " 14  MATERNITY SUPPLIES      887261 non-null  float64\n",
            " 15  CLOTHING                887261 non-null  float64\n",
            " 16  MISCELLANEOUS GOODS     887261 non-null  float64\n",
            " 17  COSTMETICS/BEAUTY       887261 non-null  float64\n",
            " 18  REC_CTGG_NM             585466 non-null  object \n",
            " 19  REC_CTGG_CD             585466 non-null  float64\n",
            " 20  TOTAL                   887261 non-null  float64\n",
            "dtypes: float64(16), int64(1), object(4)\n",
            "memory usage: 142.2+ MB\n"
          ]
        }
      ]
    },
    {
      "cell_type": "code",
      "source": [
        "concatenated_df['DATE'].max()"
      ],
      "metadata": {
        "colab": {
          "base_uri": "https://localhost:8080/"
        },
        "id": "wZDr-qFz8866",
        "outputId": "4c53e60b-c0a1-4835-d720-4ce8de3e29a2"
      },
      "execution_count": 33,
      "outputs": [
        {
          "output_type": "execute_result",
          "data": {
            "text/plain": [
              "20230831"
            ]
          },
          "metadata": {},
          "execution_count": 33
        }
      ]
    },
    {
      "cell_type": "code",
      "source": [
        "from google.colab import files"
      ],
      "metadata": {
        "id": "5c3jjjEFB2IW"
      },
      "execution_count": 34,
      "outputs": []
    },
    {
      "cell_type": "code",
      "source": [
        "concatenated_df.to_csv('concatenated_df.csv', encoding='utf-8', index=False)\n",
        "\n",
        "# Download the CSV file\n",
        "from google.colab import files\n",
        "files.download('concatenated_df.csv')"
      ],
      "metadata": {
        "colab": {
          "base_uri": "https://localhost:8080/",
          "height": 17
        },
        "id": "IFu-Ml-tAuU1",
        "outputId": "7e3a4733-8652-4763-aafb-ccfe1c5cccc6"
      },
      "execution_count": 35,
      "outputs": [
        {
          "output_type": "display_data",
          "data": {
            "text/plain": [
              "<IPython.core.display.Javascript object>"
            ],
            "application/javascript": [
              "\n",
              "    async function download(id, filename, size) {\n",
              "      if (!google.colab.kernel.accessAllowed) {\n",
              "        return;\n",
              "      }\n",
              "      const div = document.createElement('div');\n",
              "      const label = document.createElement('label');\n",
              "      label.textContent = `Downloading \"${filename}\": `;\n",
              "      div.appendChild(label);\n",
              "      const progress = document.createElement('progress');\n",
              "      progress.max = size;\n",
              "      div.appendChild(progress);\n",
              "      document.body.appendChild(div);\n",
              "\n",
              "      const buffers = [];\n",
              "      let downloaded = 0;\n",
              "\n",
              "      const channel = await google.colab.kernel.comms.open(id);\n",
              "      // Send a message to notify the kernel that we're ready.\n",
              "      channel.send({})\n",
              "\n",
              "      for await (const message of channel.messages) {\n",
              "        // Send a message to notify the kernel that we're ready.\n",
              "        channel.send({})\n",
              "        if (message.buffers) {\n",
              "          for (const buffer of message.buffers) {\n",
              "            buffers.push(buffer);\n",
              "            downloaded += buffer.byteLength;\n",
              "            progress.value = downloaded;\n",
              "          }\n",
              "        }\n",
              "      }\n",
              "      const blob = new Blob(buffers, {type: 'application/binary'});\n",
              "      const a = document.createElement('a');\n",
              "      a.href = window.URL.createObjectURL(blob);\n",
              "      a.download = filename;\n",
              "      div.appendChild(a);\n",
              "      a.click();\n",
              "      div.remove();\n",
              "    }\n",
              "  "
            ]
          },
          "metadata": {}
        },
        {
          "output_type": "display_data",
          "data": {
            "text/plain": [
              "<IPython.core.display.Javascript object>"
            ],
            "application/javascript": [
              "download(\"download_8501832b-dfe5-44c7-8504-b79b764c278b\", \"concatenated_df.csv\", 120709301)"
            ]
          },
          "metadata": {}
        }
      ]
    },
    {
      "cell_type": "code",
      "source": [
        "from google.colab import files\n",
        "concatenated_df.to_csv('concatenated_df.csv', index=False)\n",
        "files.download(\"concatenated_df.csv\")"
      ],
      "metadata": {
        "colab": {
          "base_uri": "https://localhost:8080/",
          "height": 221
        },
        "id": "eYQBwviQAHE1",
        "outputId": "c1fd3ec5-5d66-45d5-9b7d-f2e1b1e30384"
      },
      "execution_count": 7,
      "outputs": [
        {
          "output_type": "error",
          "ename": "NameError",
          "evalue": "ignored",
          "traceback": [
            "\u001b[0;31m---------------------------------------------------------------------------\u001b[0m",
            "\u001b[0;31mNameError\u001b[0m                                 Traceback (most recent call last)",
            "\u001b[0;32m<ipython-input-7-4432e38ee8bb>\u001b[0m in \u001b[0;36m<cell line: 2>\u001b[0;34m()\u001b[0m\n\u001b[1;32m      1\u001b[0m \u001b[0;32mfrom\u001b[0m \u001b[0mgoogle\u001b[0m\u001b[0;34m.\u001b[0m\u001b[0mcolab\u001b[0m \u001b[0;32mimport\u001b[0m \u001b[0mfiles\u001b[0m\u001b[0;34m\u001b[0m\u001b[0;34m\u001b[0m\u001b[0m\n\u001b[0;32m----> 2\u001b[0;31m \u001b[0mconcatenated_df\u001b[0m\u001b[0;34m.\u001b[0m\u001b[0mto_csv\u001b[0m\u001b[0;34m(\u001b[0m\u001b[0;34m'concatenated_df.csv'\u001b[0m\u001b[0;34m,\u001b[0m \u001b[0mindex\u001b[0m\u001b[0;34m=\u001b[0m\u001b[0;32mFalse\u001b[0m\u001b[0;34m)\u001b[0m\u001b[0;34m\u001b[0m\u001b[0;34m\u001b[0m\u001b[0m\n\u001b[0m\u001b[1;32m      3\u001b[0m \u001b[0mfiles\u001b[0m\u001b[0;34m.\u001b[0m\u001b[0mdownload\u001b[0m\u001b[0;34m(\u001b[0m\u001b[0;34m\"concatenated_df.csv\"\u001b[0m\u001b[0;34m)\u001b[0m\u001b[0;34m\u001b[0m\u001b[0;34m\u001b[0m\u001b[0m\n",
            "\u001b[0;31mNameError\u001b[0m: name 'concatenated_df' is not defined"
          ]
        }
      ]
    },
    {
      "cell_type": "markdown",
      "source": [
        "END"
      ],
      "metadata": {
        "id": "h71BDKOb7tnE"
      }
    }
  ]
}